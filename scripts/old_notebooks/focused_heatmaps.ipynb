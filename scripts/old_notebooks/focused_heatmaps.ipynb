{
 "cells": [
  {
   "cell_type": "code",
   "execution_count": null,
   "metadata": {},
   "outputs": [],
   "source": [
    "import matplotlib.pylab as plt\n",
    "import seaborn as sns\n",
    "import pandas as pd\n",
    "import numpy as np\n",
    "import utils as utl\n",
    "\n",
    "# select trace extraction method here\n",
    "df1 = pd.read_parquet('./all_data.parquet') # left side\n",
    "df2 = pd.read_parquet('./all_data.parquet') # right side\n",
    "\n",
    "# calculate Pearson\n",
    "d1 = utl.calculate_pearson(df1, 'behi')\n",
    "d2 = utl.calculate_pearson(df2, 'behi')\n",
    "\n",
    "# select subset of correlation dataframe\n",
    "cols = ['roi_1', 'roi_2', 'roi_3', 'roi_4', 'roi_5', 'roi_6']\n",
    "rows = [\n",
    "    'headGrooming',\n",
    "    'frontLegRub',\n",
    "    'abdomenGrooming',\n",
    "    'hindLegRub',\n",
    "    'PER',\n",
    "    'pushing',\n",
    "    'ObL1+R1',\n",
    "    'midLeft+hindLegRub',\n",
    "    'midRight+hindLegRub'\n",
    "]\n",
    "d1 = d1.loc[rows, cols]\n",
    "d2 = d2.loc[rows, cols]\n",
    "\n",
    "# get global max and min\n",
    "vmax = np.max([d1.max().max(), d2.max().max()])\n",
    "vmin = np.min([d1.min().min(), d2.min().min()])\n",
    "\n",
    "# change figure size here\n",
    "fig, axarr = plt.subplots(ncols=2, figsize=(12, 5))\n",
    "\n",
    "ax = axarr[0]\n",
    "sns.heatmap(ax=ax, data=d1, square=True, cmap='coolwarm', center=0, vmin=vmin, vmax=vmax)\n",
    "ax.set_title('channel 1')\n",
    "\n",
    "ax = axarr[1]\n",
    "sns.heatmap(ax=ax, data=d2, square=True, cmap='coolwarm', center=0, vmin=vmin, vmax=vmax)\n",
    "ax.set_title('channel 2')\n",
    "\n",
    "fig.tight_layout()\n",
    "\n",
    "fig.savefig('./focused_heatmap.svg')"
   ]
  },
  {
   "cell_type": "code",
   "execution_count": null,
   "metadata": {},
   "outputs": [],
   "source": []
  }
 ],
 "metadata": {
  "kernelspec": {
   "display_name": "everything",
   "language": "python",
   "name": "python3"
  },
  "language_info": {
   "codemirror_mode": {
    "name": "ipython",
    "version": 3
   },
   "file_extension": ".py",
   "mimetype": "text/x-python",
   "name": "python",
   "nbconvert_exporter": "python",
   "pygments_lexer": "ipython3",
   "version": "3.11.4"
  },
  "orig_nbformat": 4
 },
 "nbformat": 4,
 "nbformat_minor": 2
}
