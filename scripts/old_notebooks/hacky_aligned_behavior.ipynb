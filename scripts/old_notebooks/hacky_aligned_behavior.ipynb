{
 "cells": [
  {
   "cell_type": "code",
   "execution_count": null,
   "metadata": {},
   "outputs": [],
   "source": [
    "import pandas as pd\n",
    "from pathlib import Path\n",
    "from scipy.ndimage import gaussian_filter\n",
    "import utils as utl"
   ]
  },
  {
   "cell_type": "code",
   "execution_count": null,
   "metadata": {},
   "outputs": [],
   "source": [
    "parent_dir = Path(r'\\\\mpfi.org\\public\\sb-lab\\Nino_2P_for_Salil\\for_Nico\\stop1_imaging\\stop1-GCaMP6f-tdTomato_VNC\\fed')\n",
    "\n",
    "p_out = parent_dir / 'smth4_perc10_winsize50'\n",
    "\n",
    "# merge all trials and flies\n",
    "p_df = p_out / 'all_data_r12.parquet'\n",
    "\n",
    "# create plot folder\n",
    "p_plot = p_out / 'custom_plots_r12_nozscore'\n",
    "p_plot.mkdir(exist_ok=True)\n",
    "\n",
    "# read data from disk\n",
    "df = pd.read_parquet(p_df)\n",
    "df = df.fillna(0) # TODO workaround because of missing behavior\n",
    "\n",
    "# optional: remove ROI 7, 8, 9\n",
    "df = df.drop(columns=['z_roi_7', 'z_roi_8', 'z_roi_9'])\n",
    "df = df.drop(columns=['roi_7', 'roi_8', 'roi_9'])\n",
    "\n",
    "# frequencies used for imaging, ball velocities, and behavior\n",
    "f_ca, f_ball, f_beh = 2, 50, 200\n",
    "\n",
    "# plot aligned data\n",
    "dt = 5 # time in s before and after behavior event\n",
    "s = 0.25 # smoothing window for velocity [in s] \n",
    "\n",
    "# smooth velocity\n",
    "df_ = df.copy()\n",
    "df_.loc[:, ['ball_x', 'ball_y', 'ball_z']] = gaussian_filter(df_.loc[:, ['ball_x', 'ball_y', 'ball_z']].values, (s * f_beh, 0))\n",
    "\n",
    "# cycle through all behavoirs\n",
    "cols = [c for c in df_.columns if c.startswith('beh_')]\n",
    "for col in cols:\n",
    "\n",
    "    # align to behavior\n",
    "    df_al = utl.align2events(df_, col, f_beh, dt, use_z_roi=False)\n",
    "\n",
    "    utl.plot_aligned(df_al, ylims_roi=(.19, .35), ylims_ball=(-.35, 1.8), path=p_plot / f'aligned_to_{col}.svg')"
   ]
  },
  {
   "cell_type": "code",
   "execution_count": null,
   "metadata": {},
   "outputs": [],
   "source": []
  }
 ],
 "metadata": {
  "kernelspec": {
   "display_name": "imaging2",
   "language": "python",
   "name": "python3"
  },
  "language_info": {
   "codemirror_mode": {
    "name": "ipython",
    "version": 3
   },
   "file_extension": ".py",
   "mimetype": "text/x-python",
   "name": "python",
   "nbconvert_exporter": "python",
   "pygments_lexer": "ipython3",
   "version": "3.11.4"
  },
  "orig_nbformat": 4
 },
 "nbformat": 4,
 "nbformat_minor": 2
}
